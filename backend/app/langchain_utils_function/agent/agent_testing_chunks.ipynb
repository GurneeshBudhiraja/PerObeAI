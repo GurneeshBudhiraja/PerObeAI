{
 "cells": [
  {
   "cell_type": "code",
   "execution_count": 253,
   "metadata": {},
   "outputs": [],
   "source": [
    "# dependencies\n",
    "from langchain_openai import ChatOpenAI ## for openAI\n",
    "from langchain_google_genai import ChatGoogleGenerativeAI ## for gemini\n",
    "from langchain_google_vertexai import VertexAI, ChatVertexAI, VertexAIEmbeddings\n",
    "from langchain.prompts import ChatPromptTemplate\n",
    "from langchain.agents import AgentExecutor, create_tool_calling_agent\n",
    "from langchain_core.tools import tool\n",
    "from pinecone.grpc import PineconeGRPC as pinecone_grpc\n",
    "from langchain_core.output_parsers import JsonOutputParser\n",
    "import os\n",
    "from dotenv import load_dotenv\n",
    "import vertexai\n",
    "\n"
   ]
  },
  {
   "cell_type": "code",
   "execution_count": 537,
   "metadata": {},
   "outputs": [],
   "source": [
    "load_dotenv() # load environment variables\n",
    "vertexai.init(project=os.getenv(\"PROJECT_ID\"), location=os.getenv(\"PROJECT_LOCATION\"))"
   ]
  },
  {
   "cell_type": "code",
   "execution_count": 757,
   "metadata": {},
   "outputs": [
    {
     "name": "stderr",
     "output_type": "stream",
     "text": [
      "I0000 00:00:1722207704.032193 1142885 check_gcp_environment_no_op.cc:29] ALTS: Platforms other than Linux and Windows are not supported\n"
     ]
    },
    {
     "data": {
      "text/plain": [
       "\"I'm a large language model, and yes. \\n\""
      ]
     },
     "execution_count": 757,
     "metadata": {},
     "output_type": "execute_result"
    }
   ],
   "source": [
    "llm = ChatVertexAI(model_name=\"gemini-1.5-flash-001\",temperature=0.3)\n",
    "# llm = ChatOpenAI(model=\"gpt-4o\")\n",
    "llm.invoke(\"In no more than 10 words. Who are you and do you support function calling?\").content"
   ]
  },
  {
   "cell_type": "code",
   "execution_count": 758,
   "metadata": {},
   "outputs": [],
   "source": [
    "class PineconeClass:\n",
    "  try:\n",
    "\n",
    "    def __init__(self,user_id:str) -> None:\n",
    "      self.user_id = user_id\n",
    "      self.pc = pinecone_grpc(api_key=os.getenv(\"PINECONE_API_KEY\"))\n",
    "      ## pinecone db index\n",
    "      self.index = self.pc.Index(os.getenv(\"PINECONE_INDEX_NAME\"))\n",
    "    \n",
    "    def insert_vectors(self,images_vector:list[dict])->int:\n",
    "      upsert_response = self.index.upsert(\n",
    "        vectors=images_vector,\n",
    "        namespace=self.user_id,\n",
    "      )\n",
    "      return upsert_response.upserted_count ## returns the total number of vectors inserted/updated\n",
    "\n",
    "    def fetch_similar_vectors(self, vector_list:list[float|int], top_k:int=3,include_values:bool=False,filter:dict={},include_metadata:bool=False):\n",
    "      similar_vectors = self.index.query(\n",
    "        namespace=self.user_id,\n",
    "        vector=vector_list,\n",
    "        filter=filter,\n",
    "        top_k=top_k,\n",
    "        include_values=include_values,\n",
    "        include_metadata=include_metadata\n",
    "      )\n",
    "      return similar_vectors\n",
    "    \n",
    "  except Exception as e:\n",
    "    raise Exception(f\"Error in PineconeClass: {str(e)}\")\n",
    "  \n"
   ]
  },
  {
   "cell_type": "code",
   "execution_count": 759,
   "metadata": {},
   "outputs": [],
   "source": [
    "# generate text embeddings\n",
    "def generate_text_embeddings(user_prompt:str):\n",
    "  try:\n",
    "    embeddings_model= VertexAIEmbeddings(model_name=\"multimodalembedding\")\n",
    "    embeddings = embeddings_model.embed_query(user_prompt) # Generate embeddings\n",
    "    return embeddings\n",
    "  except Exception as e:\n",
    "    print(f\"Error in generate_text_embeddings function: {str(e)}\")"
   ]
  },
  {
   "cell_type": "code",
   "execution_count": 760,
   "metadata": {},
   "outputs": [
    {
     "name": "stderr",
     "output_type": "stream",
     "text": [
      "I0000 00:00:1722207705.477168 1142885 check_gcp_environment_no_op.cc:29] ALTS: Platforms other than Linux and Windows are not supported\n",
      "I0000 00:00:1722207705.692868 1403648 check_gcp_environment_no_op.cc:29] ALTS: Platforms other than Linux and Windows are not supported\n",
      "I0000 00:00:1722207705.694753 1403648 check_gcp_environment_no_op.cc:29] ALTS: Platforms other than Linux and Windows are not supported\n"
     ]
    },
    {
     "name": "stdout",
     "output_type": "stream",
     "text": [
      "[-0.035197977, -0.0411336273, -0.00809537619, 0.0147745684, -0.00912695844]\n",
      "1408\n"
     ]
    }
   ],
   "source": [
    "embeddings = generate_text_embeddings(\"what to wear for a cruise party today evening in toronto?\")\n",
    "print(embeddings[:5])\n",
    "print(len(embeddings))"
   ]
  },
  {
   "cell_type": "code",
   "execution_count": 761,
   "metadata": {},
   "outputs": [],
   "source": [
    "# agent tools\n",
    "lowerwear_collection = []\n",
    "upperwear_collection = []\n",
    "@tool\n",
    "def retrieve_upperwear(user_id:str,user_prompt:str)->list[dict]:\n",
    "  \"\"\"fetches the top 4 upperwear vectors closest to the vector of the prompt_vector from the pinecone db vector store\"\"\"\n",
    "  try:\n",
    "    pinecone_instance = PineconeClass(user_id=user_id)\n",
    "    embeddings = generate_text_embeddings(user_prompt=user_prompt)\n",
    "    upperwear_results = pinecone_instance.fetch_similar_vectors(vector_list=embeddings,top_k=4,filter={\"tag\":\"upperwear\"},include_metadata=True)[\"matches\"]\n",
    "    upperwear_items = [{\"type\":\"image_url\",\"image_url\":result[\"metadata\"][\"url\"]} for result in upperwear_results]\n",
    "    global upperwear_collection\n",
    "    upperwear_collection = upperwear_items\n",
    "    return upperwear_items\n",
    "  except Exception as e:\n",
    "    print(f\"Error in get_similar_clothing_items tool: {str(e)}\")\n",
    "\n",
    "@tool\n",
    "def retrieve_lowerwear(user_id:str,user_prompt:str)->list[dict]:\n",
    "  \"\"\"fetches the top 4 lowerwear vectors closest to the vector of the prompt_vector from the pinecone db vector store\"\"\"\n",
    "  try:\n",
    "    pinecone_instance = PineconeClass(user_id=user_id)\n",
    "    embeddings = generate_text_embeddings(user_prompt=user_prompt)\n",
    "    lowerwear_results = pinecone_instance.fetch_similar_vectors(vector_list=embeddings,top_k=4,filter={\"tag\":\"lowerwear\"},include_metadata=True)[\"matches\"]\n",
    "    lowerwear_items = [{\"type\":\"image_url\",\"image_url\":result[\"metadata\"][\"url\"]} for result in lowerwear_results]\n",
    "    global lowerwear_collection\n",
    "    lowerwear_collection = lowerwear_items\n",
    "    return lowerwear_items\n",
    "  except Exception as e:\n",
    "    print(f\"Error in get_similar_clothing_items tool: {str(e)}\")\n"
   ]
  },
  {
   "cell_type": "code",
   "execution_count": 762,
   "metadata": {},
   "outputs": [],
   "source": [
    "prompt = ChatPromptTemplate.from_messages([\n",
    "  (\"system\", \"You are a powerful AI bot whose job is to fetch the data. When the user asks for a recommendation, you will first use the tools 'retrieve_upperwear' and 'retrieve_lowerwear' to fetch the top 4 upperwear and lowerwear vectors closest. End the chain my mentioning the clothing item links you fetched and end it with a positive note.\"),\n",
    "  (\"human\",\"user_prompt is {user_prompt} and the user_id is {user_id}\"),\n",
    "  (\"placeholder\",\"{agent_scratchpad}\")\n",
    "  \n",
    "])\n",
    "tools=[retrieve_upperwear,retrieve_lowerwear]"
   ]
  },
  {
   "cell_type": "code",
   "execution_count": 763,
   "metadata": {},
   "outputs": [],
   "source": [
    "agent = create_tool_calling_agent(llm=llm,tools=tools,prompt=prompt)\n",
    "agent_executor = AgentExecutor(agent=agent, tools=tools, verbose=True) "
   ]
  },
  {
   "cell_type": "code",
   "execution_count": 764,
   "metadata": {},
   "outputs": [
    {
     "name": "stdout",
     "output_type": "stream",
     "text": [
      "\n",
      "\n",
      "\u001b[1m> Entering new AgentExecutor chain...\u001b[0m\n",
      "\u001b[32;1m\u001b[1;3m\n",
      "Invoking: `retrieve_upperwear` with `{'user_id': 'JKVDl1ErPjaj3TPRNuBUsN3W9xS2', 'user_prompt': 'recommend me something to wear at a gym?'}`\n",
      "\n",
      "\n",
      "\u001b[0m"
     ]
    },
    {
     "name": "stderr",
     "output_type": "stream",
     "text": [
      "I0000 00:00:1722207718.054365 1142885 check_gcp_environment_no_op.cc:29] ALTS: Platforms other than Linux and Windows are not supported\n",
      "I0000 00:00:1722207718.269313 1403746 check_gcp_environment_no_op.cc:29] ALTS: Platforms other than Linux and Windows are not supported\n",
      "I0000 00:00:1722207718.269937 1403746 check_gcp_environment_no_op.cc:29] ALTS: Platforms other than Linux and Windows are not supported\n"
     ]
    },
    {
     "name": "stdout",
     "output_type": "stream",
     "text": [
      "\u001b[36;1m\u001b[1;3m[{'type': 'image_url', 'image_url': 'https://firebasestorage.googleapis.com/v0/b/perobeai-430021.appspot.com/o/JKVDl1ErPjaj3TPRNuBUsN3W9xS2%2FshirtPlain3641cf606-e83c-4aea-b2a6-a852cfacad0f.png?alt=media&token=3f6a86da-fd41-48f9-b047-487c56954535'}, {'type': 'image_url', 'image_url': 'https://firebasestorage.googleapis.com/v0/b/perobeai-430021.appspot.com/o/JKVDl1ErPjaj3TPRNuBUsN3W9xS2%2F9shirtFullSleeves9e5e142b-0173-49c9-b54c-e75e279465b5.png?alt=media&token=c4f213ff-e4d4-41be-a176-b2d3ad62299c'}, {'type': 'image_url', 'image_url': 'https://firebasestorage.googleapis.com/v0/b/perobeai-430021.appspot.com/o/JKVDl1ErPjaj3TPRNuBUsN3W9xS2%2F6tshirtFormal15721fec-107d-49c5-805e-a32ec8713139.png?alt=media&token=9565ba77-f8bf-4b24-be09-278021937c0f'}, {'type': 'image_url', 'image_url': 'https://firebasestorage.googleapis.com/v0/b/perobeai-430021.appspot.com/o/JKVDl1ErPjaj3TPRNuBUsN3W9xS2%2FpoloShirts3fe99a52-d510-40e8-8bff-6a6b39d4cecf.png?alt=media&token=9416921a-ef57-43c3-ac08-f542567a3658'}]\u001b[0m\u001b[32;1m\u001b[1;3m\n",
      "Invoking: `retrieve_lowerwear` with `{'user_id': 'JKVDl1ErPjaj3TPRNuBUsN3W9xS2', 'user_prompt': 'recommend me something to wear at a gym?'}`\n",
      "\n",
      "\n",
      "\u001b[0m"
     ]
    },
    {
     "name": "stderr",
     "output_type": "stream",
     "text": [
      "I0000 00:00:1722207719.998329 1142885 check_gcp_environment_no_op.cc:29] ALTS: Platforms other than Linux and Windows are not supported\n",
      "I0000 00:00:1722207720.213660 1403758 check_gcp_environment_no_op.cc:29] ALTS: Platforms other than Linux and Windows are not supported\n",
      "I0000 00:00:1722207720.216656 1403758 check_gcp_environment_no_op.cc:29] ALTS: Platforms other than Linux and Windows are not supported\n"
     ]
    },
    {
     "name": "stdout",
     "output_type": "stream",
     "text": [
      "\u001b[33;1m\u001b[1;3m[{'type': 'image_url', 'image_url': 'https://firebasestorage.googleapis.com/v0/b/perobeai-430021.appspot.com/o/JKVDl1ErPjaj3TPRNuBUsN3W9xS2%2Fshorts0f1b8a67-5abe-4eb8-a0af-2e196cfe7e29.png?alt=media&token=33eb2b99-229f-4c46-b58d-b06032aaf497'}, {'type': 'image_url', 'image_url': 'https://firebasestorage.googleapis.com/v0/b/perobeai-430021.appspot.com/o/JKVDl1ErPjaj3TPRNuBUsN3W9xS2%2F1pants4f3912a4-14bf-4f46-a255-89677ac76b37.png?alt=media&token=7b8f89ff-7bd8-46d5-8b6a-eaa6c4292372'}, {'type': 'image_url', 'image_url': 'https://firebasestorage.googleapis.com/v0/b/perobeai-430021.appspot.com/o/JKVDl1ErPjaj3TPRNuBUsN3W9xS2%2Flowerbc5634c0-4cde-4262-afe0-d3e16c4586a2.png?alt=media&token=ab69c9c9-6d7d-4b23-b83b-0a3159fdc562'}, {'type': 'image_url', 'image_url': 'https://firebasestorage.googleapis.com/v0/b/perobeai-430021.appspot.com/o/JKVDl1ErPjaj3TPRNuBUsN3W9xS2%2F3jeans384bff4b-2d07-4f31-be25-9acb5e86a359.png?alt=media&token=a3cac849-6c88-41d0-bd17-10def087434a'}]\u001b[0m\u001b[32;1m\u001b[1;3mHere are some recommendations for what to wear at the gym: \n",
      "\n",
      "* https://firebasestorage.googleapis.com/v0/b/perobeai-430021.appspot.com/o/JKVDl1ErPjaj3TPRNuBUsN3W9xS2%2FshirtPlain3641cf606-e83c-4aea-b2a6-a852cfacad0f.png?alt=media&token=3f6a86da-fd41-4\u001b[0m\n",
      "\n",
      "\u001b[1m> Finished chain.\u001b[0m\n",
      "{'user_prompt': 'recommend me something to wear at a gym?', 'user_id': 'JKVDl1ErPjaj3TPRNuBUsN3W9xS2', 'output': 'Here are some recommendations for what to wear at the gym: \\n\\n* https://firebasestorage.googleapis.com/v0/b/perobeai-430021.appspot.com/o/JKVDl1ErPjaj3TPRNuBUsN3W9xS2%2FshirtPlain3641cf606-e83c-4aea-b2a6-a852cfacad0f.png?alt=media&token=3f6a86da-fd41-4'}\n"
     ]
    }
   ],
   "source": [
    "resp = agent_executor.invoke({\"user_prompt\":\"recommend me something to wear at a gym?\",\"user_id\":\"JKVDl1ErPjaj3TPRNuBUsN3W9xS2\"}) \n",
    "print(resp)"
   ]
  },
  {
   "cell_type": "code",
   "execution_count": 765,
   "metadata": {},
   "outputs": [
    {
     "data": {
      "text/plain": [
       "[{'type': 'image_url',\n",
       "  'image_url': 'https://firebasestorage.googleapis.com/v0/b/perobeai-430021.appspot.com/o/JKVDl1ErPjaj3TPRNuBUsN3W9xS2%2FshirtPlain3641cf606-e83c-4aea-b2a6-a852cfacad0f.png?alt=media&token=3f6a86da-fd41-48f9-b047-487c56954535'},\n",
       " {'type': 'image_url',\n",
       "  'image_url': 'https://firebasestorage.googleapis.com/v0/b/perobeai-430021.appspot.com/o/JKVDl1ErPjaj3TPRNuBUsN3W9xS2%2F9shirtFullSleeves9e5e142b-0173-49c9-b54c-e75e279465b5.png?alt=media&token=c4f213ff-e4d4-41be-a176-b2d3ad62299c'},\n",
       " {'type': 'image_url',\n",
       "  'image_url': 'https://firebasestorage.googleapis.com/v0/b/perobeai-430021.appspot.com/o/JKVDl1ErPjaj3TPRNuBUsN3W9xS2%2F6tshirtFormal15721fec-107d-49c5-805e-a32ec8713139.png?alt=media&token=9565ba77-f8bf-4b24-be09-278021937c0f'},\n",
       " {'type': 'image_url',\n",
       "  'image_url': 'https://firebasestorage.googleapis.com/v0/b/perobeai-430021.appspot.com/o/JKVDl1ErPjaj3TPRNuBUsN3W9xS2%2FpoloShirts3fe99a52-d510-40e8-8bff-6a6b39d4cecf.png?alt=media&token=9416921a-ef57-43c3-ac08-f542567a3658'}]"
      ]
     },
     "execution_count": 765,
     "metadata": {},
     "output_type": "execute_result"
    }
   ],
   "source": [
    "upperwear_collection"
   ]
  },
  {
   "cell_type": "code",
   "execution_count": 744,
   "metadata": {},
   "outputs": [
    {
     "data": {
      "text/plain": [
       "[{'type': 'image_url',\n",
       "  'image_url': 'https://firebasestorage.googleapis.com/v0/b/perobeai-430021.appspot.com/o/JKVDl1ErPjaj3TPRNuBUsN3W9xS2%2Fshorts0f1b8a67-5abe-4eb8-a0af-2e196cfe7e29.png?alt=media&token=33eb2b99-229f-4c46-b58d-b06032aaf497'},\n",
       " {'type': 'image_url',\n",
       "  'image_url': 'https://firebasestorage.googleapis.com/v0/b/perobeai-430021.appspot.com/o/JKVDl1ErPjaj3TPRNuBUsN3W9xS2%2F1pants4f3912a4-14bf-4f46-a255-89677ac76b37.png?alt=media&token=7b8f89ff-7bd8-46d5-8b6a-eaa6c4292372'},\n",
       " {'type': 'image_url',\n",
       "  'image_url': 'https://firebasestorage.googleapis.com/v0/b/perobeai-430021.appspot.com/o/JKVDl1ErPjaj3TPRNuBUsN3W9xS2%2Flowerbc5634c0-4cde-4262-afe0-d3e16c4586a2.png?alt=media&token=ab69c9c9-6d7d-4b23-b83b-0a3159fdc562'},\n",
       " {'type': 'image_url',\n",
       "  'image_url': 'https://firebasestorage.googleapis.com/v0/b/perobeai-430021.appspot.com/o/JKVDl1ErPjaj3TPRNuBUsN3W9xS2%2F3jeans384bff4b-2d07-4f31-be25-9acb5e86a359.png?alt=media&token=a3cac849-6c88-41d0-bd17-10def087434a'}]"
      ]
     },
     "execution_count": 744,
     "metadata": {},
     "output_type": "execute_result"
    }
   ],
   "source": [
    "lowerwear_collection"
   ]
  }
 ],
 "metadata": {
  "kernelspec": {
   "display_name": ".venv",
   "language": "python",
   "name": "python3"
  },
  "language_info": {
   "codemirror_mode": {
    "name": "ipython",
    "version": 3
   },
   "file_extension": ".py",
   "mimetype": "text/x-python",
   "name": "python",
   "nbconvert_exporter": "python",
   "pygments_lexer": "ipython3",
   "version": "3.12.4"
  }
 },
 "nbformat": 4,
 "nbformat_minor": 2
}
